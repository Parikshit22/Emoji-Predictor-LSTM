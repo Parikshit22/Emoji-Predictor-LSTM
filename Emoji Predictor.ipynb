{
 "cells": [
  {
   "cell_type": "code",
   "execution_count": 90,
   "metadata": {},
   "outputs": [],
   "source": [
    "import emoji"
   ]
  },
  {
   "cell_type": "code",
   "execution_count": 91,
   "metadata": {},
   "outputs": [],
   "source": [
    "emoji_dictionary = {\"0\": \"\\u2764\\uFE0F\",    # :heart: prints a black instead of red heart depending on the font\n",
    "                    \"1\": \":baseball:\",\n",
    "                    \"2\": \":beaming_face_with_smiling_eyes:\",\n",
    "                    \"3\": \":downcast_face_with_sweat:\",\n",
    "                    \"4\": \":fork_and_knife:\",\n",
    "                   }"
   ]
  },
  {
   "cell_type": "code",
   "execution_count": 92,
   "metadata": {},
   "outputs": [
    {
     "name": "stdout",
     "output_type": "stream",
     "text": [
      "❤️\n",
      "⚾\n",
      "😁\n",
      "😓\n",
      "🍴\n"
     ]
    }
   ],
   "source": [
    "for e in emoji_dictionary.values():\n",
    "    print(emoji.emojize(e))"
   ]
  },
  {
   "cell_type": "code",
   "execution_count": 93,
   "metadata": {},
   "outputs": [],
   "source": [
    "f = open(\"glove.6B.50d.txt\", encoding = 'utf-8')"
   ]
  },
  {
   "cell_type": "code",
   "execution_count": 94,
   "metadata": {},
   "outputs": [],
   "source": [
    "import numpy as np"
   ]
  },
  {
   "cell_type": "code",
   "execution_count": 95,
   "metadata": {},
   "outputs": [],
   "source": [
    "word_embedding = {}\n",
    "for line in f:\n",
    "    values = line.split()\n",
    "    val = values[0]\n",
    "    coff = np.asarray(values[1:],dtype = float)\n",
    "    word_embedding[val] = coff\n",
    "f.close()"
   ]
  },
  {
   "cell_type": "code",
   "execution_count": 96,
   "metadata": {},
   "outputs": [
    {
     "name": "stdout",
     "output_type": "stream",
     "text": [
      "(50,)\n"
     ]
    }
   ],
   "source": [
    "emb_dim = word_embedding[\"the\"].shape\n",
    "print(emb_dim)"
   ]
  },
  {
   "cell_type": "code",
   "execution_count": 97,
   "metadata": {},
   "outputs": [],
   "source": [
    "import pandas as pd"
   ]
  },
  {
   "cell_type": "code",
   "execution_count": 98,
   "metadata": {},
   "outputs": [],
   "source": [
    "train_data =pd.read_csv(\"train_emoji.csv\")"
   ]
  },
  {
   "cell_type": "code",
   "execution_count": 99,
   "metadata": {},
   "outputs": [],
   "source": [
    "x_train,y_train = train_data.iloc[:,0],train_data.iloc[:,1]"
   ]
  },
  {
   "cell_type": "code",
   "execution_count": 100,
   "metadata": {},
   "outputs": [],
   "source": [
    "xtrain,ytrain = x_train.values,y_train.values"
   ]
  },
  {
   "cell_type": "code",
   "execution_count": 101,
   "metadata": {},
   "outputs": [],
   "source": [
    "test_data = pd.read_csv(\"test_emoji.csv\")\n",
    "xtest = test_data.iloc[:,0].values"
   ]
  },
  {
   "cell_type": "code",
   "execution_count": 102,
   "metadata": {},
   "outputs": [],
   "source": [
    "ytest = test_data.iloc[:,1].values"
   ]
  },
  {
   "cell_type": "code",
   "execution_count": 103,
   "metadata": {},
   "outputs": [],
   "source": [
    "from keras.utils import np_utils\n",
    "ytrain = np_utils.to_categorical(ytrain)"
   ]
  },
  {
   "cell_type": "code",
   "execution_count": 104,
   "metadata": {},
   "outputs": [],
   "source": [
    "ytest = np_utils.to_categorical(ytest)"
   ]
  },
  {
   "cell_type": "markdown",
   "metadata": {},
   "source": [
    "# Converting Sentences into Vectors"
   ]
  },
  {
   "cell_type": "code",
   "execution_count": 105,
   "metadata": {},
   "outputs": [],
   "source": [
    "def sec2vec(x):\n",
    "    maxlen = 10\n",
    "    state_vec = np.zeros((x.shape[0],maxlen,emb_dim[0]))\n",
    "    for i in range(x.shape[0]):\n",
    "        x[i] = x[i].split()\n",
    "        for j in range(len(x[i])):\n",
    "            try:\n",
    "                state_vec[i][j] = word_embedding[x[i][j].lower()]\n",
    "            except:\n",
    "                state_vec[i][j] = np.zeros((50,))\n",
    "    return state_vec"
   ]
  },
  {
   "cell_type": "code",
   "execution_count": 106,
   "metadata": {},
   "outputs": [],
   "source": [
    "embedding_mat_train = sec2vec(xtrain)\n",
    "embedding_mat_test = sec2vec(xtest)"
   ]
  },
  {
   "cell_type": "code",
   "execution_count": 107,
   "metadata": {},
   "outputs": [
    {
     "data": {
      "text/plain": [
       "(55, 10, 50)"
      ]
     },
     "execution_count": 107,
     "metadata": {},
     "output_type": "execute_result"
    }
   ],
   "source": [
    "embedding_mat_test.shape"
   ]
  },
  {
   "cell_type": "markdown",
   "metadata": {},
   "source": [
    "# Define LSTM model"
   ]
  },
  {
   "cell_type": "code",
   "execution_count": 156,
   "metadata": {},
   "outputs": [],
   "source": [
    "import keras\n",
    "from keras.models import Sequential\n",
    "from keras.layers import *"
   ]
  },
  {
   "cell_type": "code",
   "execution_count": 162,
   "metadata": {},
   "outputs": [
    {
     "name": "stdout",
     "output_type": "stream",
     "text": [
      "_________________________________________________________________\n",
      "Layer (type)                 Output Shape              Param #   \n",
      "=================================================================\n",
      "lstm_19 (LSTM)               (None, 10, 64)            29440     \n",
      "_________________________________________________________________\n",
      "dropout_16 (Dropout)         (None, 10, 64)            0         \n",
      "_________________________________________________________________\n",
      "lstm_20 (LSTM)               (None, 64)                33024     \n",
      "_________________________________________________________________\n",
      "dense_16 (Dense)             (None, 5)                 325       \n",
      "_________________________________________________________________\n",
      "activation_12 (Activation)   (None, 5)                 0         \n",
      "=================================================================\n",
      "Total params: 62,789\n",
      "Trainable params: 62,789\n",
      "Non-trainable params: 0\n",
      "_________________________________________________________________\n"
     ]
    }
   ],
   "source": [
    "model = Sequential()\n",
    "model.add(LSTM(64,input_shape=(10,50),return_sequences = True))\n",
    "model.add(Dropout(0.5))\n",
    "model.add(LSTM(64,return_sequences = False))\n",
    "model.add(Dense(5))\n",
    "model.add(Activation(\"softmax\"))\n",
    "model.summary()"
   ]
  },
  {
   "cell_type": "code",
   "execution_count": 163,
   "metadata": {},
   "outputs": [],
   "source": [
    "from keras.callbacks import ModelCheckpoint, EarlyStopping\n",
    "checkpoint = ModelCheckpoint(\"best_model.h5\",monitor = \"val_loss\",verbose = True,save_best_only=True)\n",
    "earlystop = EarlyStopping(monitor = \"val_acc\",patience = 14)"
   ]
  },
  {
   "cell_type": "code",
   "execution_count": 164,
   "metadata": {},
   "outputs": [],
   "source": [
    "model.compile(optimizer = 'adam', loss = \"categorical_crossentropy\", metrics = [\"acc\"])"
   ]
  },
  {
   "cell_type": "code",
   "execution_count": 165,
   "metadata": {},
   "outputs": [
    {
     "name": "stdout",
     "output_type": "stream",
     "text": [
      "Train on 104 samples, validate on 27 samples\n",
      "Epoch 1/100\n",
      "104/104 [==============================] - 3s 32ms/step - loss: 1.6071 - acc: 0.2404 - val_loss: 1.6139 - val_acc: 0.1111\n",
      "\n",
      "Epoch 00001: val_loss improved from inf to 1.61386, saving model to best_model.h5\n",
      "Epoch 2/100\n",
      "104/104 [==============================] - 0s 738us/step - loss: 1.5676 - acc: 0.3654 - val_loss: 1.6085 - val_acc: 0.1852\n",
      "\n",
      "Epoch 00002: val_loss improved from 1.61386 to 1.60845, saving model to best_model.h5\n",
      "Epoch 3/100\n",
      "104/104 [==============================] - 0s 700us/step - loss: 1.5365 - acc: 0.3750 - val_loss: 1.6074 - val_acc: 0.2222\n",
      "\n",
      "Epoch 00003: val_loss improved from 1.60845 to 1.60737, saving model to best_model.h5\n",
      "Epoch 4/100\n",
      "104/104 [==============================] - 0s 834us/step - loss: 1.4997 - acc: 0.4135 - val_loss: 1.6171 - val_acc: 0.1852\n",
      "\n",
      "Epoch 00004: val_loss did not improve from 1.60737\n",
      "Epoch 5/100\n",
      "104/104 [==============================] - 0s 662us/step - loss: 1.4692 - acc: 0.4519 - val_loss: 1.6392 - val_acc: 0.2222\n",
      "\n",
      "Epoch 00005: val_loss did not improve from 1.60737\n",
      "Epoch 6/100\n",
      "104/104 [==============================] - 0s 786us/step - loss: 1.4393 - acc: 0.3942 - val_loss: 1.6613 - val_acc: 0.2222\n",
      "\n",
      "Epoch 00006: val_loss did not improve from 1.60737\n",
      "Epoch 7/100\n",
      "104/104 [==============================] - 0s 767us/step - loss: 1.4127 - acc: 0.4231 - val_loss: 1.6763 - val_acc: 0.1481\n",
      "\n",
      "Epoch 00007: val_loss did not improve from 1.60737\n",
      "Epoch 8/100\n",
      "104/104 [==============================] - 0s 738us/step - loss: 1.3677 - acc: 0.4327 - val_loss: 1.6603 - val_acc: 0.1852\n",
      "\n",
      "Epoch 00008: val_loss did not improve from 1.60737\n",
      "Epoch 9/100\n",
      "104/104 [==============================] - 0s 892us/step - loss: 1.3400 - acc: 0.4615 - val_loss: 1.6059 - val_acc: 0.1852\n",
      "\n",
      "Epoch 00009: val_loss improved from 1.60737 to 1.60587, saving model to best_model.h5\n",
      "Epoch 10/100\n",
      "104/104 [==============================] - 0s 815us/step - loss: 1.2777 - acc: 0.4808 - val_loss: 1.5306 - val_acc: 0.2222\n",
      "\n",
      "Epoch 00010: val_loss improved from 1.60587 to 1.53056, saving model to best_model.h5\n",
      "Epoch 11/100\n",
      "104/104 [==============================] - 0s 731us/step - loss: 1.2226 - acc: 0.5288 - val_loss: 1.4762 - val_acc: 0.2593\n",
      "\n",
      "Epoch 00011: val_loss improved from 1.53056 to 1.47622, saving model to best_model.h5\n",
      "Epoch 12/100\n",
      "104/104 [==============================] - 0s 815us/step - loss: 1.1618 - acc: 0.5288 - val_loss: 1.4457 - val_acc: 0.2963\n",
      "\n",
      "Epoch 00012: val_loss improved from 1.47622 to 1.44572, saving model to best_model.h5\n",
      "Epoch 13/100\n",
      "104/104 [==============================] - 0s 834us/step - loss: 1.1017 - acc: 0.5769 - val_loss: 1.4317 - val_acc: 0.2963\n",
      "\n",
      "Epoch 00013: val_loss improved from 1.44572 to 1.43173, saving model to best_model.h5\n",
      "Epoch 14/100\n",
      "104/104 [==============================] - 0s 876us/step - loss: 1.0451 - acc: 0.5769 - val_loss: 1.3948 - val_acc: 0.3704\n",
      "\n",
      "Epoch 00014: val_loss improved from 1.43173 to 1.39476, saving model to best_model.h5\n",
      "Epoch 15/100\n",
      "104/104 [==============================] - 0s 873us/step - loss: 1.0004 - acc: 0.5865 - val_loss: 1.3548 - val_acc: 0.4444\n",
      "\n",
      "Epoch 00015: val_loss improved from 1.39476 to 1.35481, saving model to best_model.h5\n",
      "Epoch 16/100\n",
      "104/104 [==============================] - 0s 863us/step - loss: 0.9284 - acc: 0.6635 - val_loss: 1.3356 - val_acc: 0.4815\n",
      "\n",
      "Epoch 00016: val_loss improved from 1.35481 to 1.33562, saving model to best_model.h5\n",
      "Epoch 17/100\n",
      "104/104 [==============================] - 0s 825us/step - loss: 0.8685 - acc: 0.6923 - val_loss: 1.2944 - val_acc: 0.4815\n",
      "\n",
      "Epoch 00017: val_loss improved from 1.33562 to 1.29435, saving model to best_model.h5\n",
      "Epoch 18/100\n",
      "104/104 [==============================] - 0s 863us/step - loss: 0.8192 - acc: 0.6923 - val_loss: 1.2758 - val_acc: 0.5556\n",
      "\n",
      "Epoch 00018: val_loss improved from 1.29435 to 1.27575, saving model to best_model.h5\n",
      "Epoch 19/100\n",
      "104/104 [==============================] - 0s 853us/step - loss: 0.7639 - acc: 0.7019 - val_loss: 1.3600 - val_acc: 0.5556\n",
      "\n",
      "Epoch 00019: val_loss did not improve from 1.27575\n",
      "Epoch 20/100\n",
      "104/104 [==============================] - 0s 777us/step - loss: 0.7091 - acc: 0.7212 - val_loss: 1.3030 - val_acc: 0.5185\n",
      "\n",
      "Epoch 00020: val_loss did not improve from 1.27575\n",
      "Epoch 21/100\n",
      "104/104 [==============================] - 0s 834us/step - loss: 0.6550 - acc: 0.8077 - val_loss: 1.2064 - val_acc: 0.5926\n",
      "\n",
      "Epoch 00021: val_loss improved from 1.27575 to 1.20636, saving model to best_model.h5\n",
      "Epoch 22/100\n",
      "104/104 [==============================] - 0s 710us/step - loss: 0.6021 - acc: 0.7981 - val_loss: 1.1550 - val_acc: 0.5926\n",
      "\n",
      "Epoch 00022: val_loss improved from 1.20636 to 1.15504, saving model to best_model.h5\n",
      "Epoch 23/100\n",
      "104/104 [==============================] - 0s 825us/step - loss: 0.5523 - acc: 0.8365 - val_loss: 1.2093 - val_acc: 0.5185\n",
      "\n",
      "Epoch 00023: val_loss did not improve from 1.15504\n",
      "Epoch 24/100\n",
      "104/104 [==============================] - 0s 758us/step - loss: 0.5147 - acc: 0.8462 - val_loss: 1.1656 - val_acc: 0.6296\n",
      "\n",
      "Epoch 00024: val_loss did not improve from 1.15504\n",
      "Epoch 25/100\n",
      "104/104 [==============================] - 0s 901us/step - loss: 0.4713 - acc: 0.8365 - val_loss: 1.1488 - val_acc: 0.6667\n",
      "\n",
      "Epoch 00025: val_loss improved from 1.15504 to 1.14882, saving model to best_model.h5\n",
      "Epoch 26/100\n",
      "104/104 [==============================] - 0s 767us/step - loss: 0.4209 - acc: 0.8942 - val_loss: 1.2636 - val_acc: 0.5185\n",
      "\n",
      "Epoch 00026: val_loss did not improve from 1.14882\n",
      "Epoch 27/100\n",
      "104/104 [==============================] - 0s 719us/step - loss: 0.4120 - acc: 0.8654 - val_loss: 1.1814 - val_acc: 0.7037\n",
      "\n",
      "Epoch 00027: val_loss did not improve from 1.14882\n",
      "Epoch 28/100\n",
      "104/104 [==============================] - 0s 748us/step - loss: 0.3471 - acc: 0.9038 - val_loss: 1.2538 - val_acc: 0.6667\n",
      "\n",
      "Epoch 00028: val_loss did not improve from 1.14882\n",
      "Epoch 29/100\n",
      "104/104 [==============================] - 0s 710us/step - loss: 0.3574 - acc: 0.8942 - val_loss: 1.3284 - val_acc: 0.6667\n",
      "\n",
      "Epoch 00029: val_loss did not improve from 1.14882\n",
      "Epoch 30/100\n",
      "104/104 [==============================] - 0s 901us/step - loss: 0.3267 - acc: 0.9038 - val_loss: 1.3535 - val_acc: 0.5926\n",
      "\n",
      "Epoch 00030: val_loss did not improve from 1.14882\n",
      "Epoch 31/100\n",
      "104/104 [==============================] - 0s 748us/step - loss: 0.2626 - acc: 0.9423 - val_loss: 1.3325 - val_acc: 0.5926\n",
      "\n",
      "Epoch 00031: val_loss did not improve from 1.14882\n",
      "Epoch 32/100\n",
      "104/104 [==============================] - 0s 719us/step - loss: 0.2133 - acc: 0.9423 - val_loss: 1.3368 - val_acc: 0.7037\n",
      "\n",
      "Epoch 00032: val_loss did not improve from 1.14882\n",
      "Epoch 33/100\n",
      "104/104 [==============================] - 0s 738us/step - loss: 0.2033 - acc: 0.9519 - val_loss: 1.3864 - val_acc: 0.7037\n",
      "\n",
      "Epoch 00033: val_loss did not improve from 1.14882\n",
      "Epoch 34/100\n",
      "104/104 [==============================] - 0s 719us/step - loss: 0.2081 - acc: 0.9519 - val_loss: 1.5502 - val_acc: 0.5926\n",
      "\n",
      "Epoch 00034: val_loss did not improve from 1.14882\n",
      "Epoch 35/100\n",
      "104/104 [==============================] - 0s 748us/step - loss: 0.2333 - acc: 0.9231 - val_loss: 1.4638 - val_acc: 0.6296\n",
      "\n",
      "Epoch 00035: val_loss did not improve from 1.14882\n",
      "Epoch 36/100\n",
      "104/104 [==============================] - 0s 786us/step - loss: 0.1374 - acc: 0.9712 - val_loss: 1.4519 - val_acc: 0.7037\n",
      "\n",
      "Epoch 00036: val_loss did not improve from 1.14882\n",
      "Epoch 37/100\n",
      "104/104 [==============================] - 0s 882us/step - loss: 0.1560 - acc: 0.9712 - val_loss: 1.5916 - val_acc: 0.6296\n",
      "\n",
      "Epoch 00037: val_loss did not improve from 1.14882\n",
      "Epoch 38/100\n",
      "104/104 [==============================] - 0s 690us/step - loss: 0.1751 - acc: 0.9712 - val_loss: 1.4635 - val_acc: 0.6667\n",
      "\n",
      "Epoch 00038: val_loss did not improve from 1.14882\n",
      "Epoch 39/100\n",
      "104/104 [==============================] - 0s 719us/step - loss: 0.1480 - acc: 0.9615 - val_loss: 1.6175 - val_acc: 0.5926\n",
      "\n",
      "Epoch 00039: val_loss did not improve from 1.14882\n",
      "Epoch 40/100\n",
      "104/104 [==============================] - 0s 690us/step - loss: 0.1589 - acc: 0.9327 - val_loss: 1.4699 - val_acc: 0.6296\n",
      "\n",
      "Epoch 00040: val_loss did not improve from 1.14882\n",
      "Epoch 41/100\n",
      "104/104 [==============================] - 0s 815us/step - loss: 0.0732 - acc: 0.9904 - val_loss: 1.5053 - val_acc: 0.7037\n",
      "\n",
      "Epoch 00041: val_loss did not improve from 1.14882\n"
     ]
    },
    {
     "data": {
      "text/plain": [
       "<keras.callbacks.History at 0x20fe96b7828>"
      ]
     },
     "execution_count": 165,
     "metadata": {},
     "output_type": "execute_result"
    }
   ],
   "source": [
    "model.fit(embedding_mat_train,ytrain,epochs = 100,batch_size = 64,shuffle = True,validation_split = 0.2,callbacks = [checkpoint,earlystop])"
   ]
  },
  {
   "cell_type": "code",
   "execution_count": 167,
   "metadata": {},
   "outputs": [
    {
     "name": "stdout",
     "output_type": "stream",
     "text": [
      "55/55 [==============================] - 0s 308us/step\n"
     ]
    },
    {
     "data": {
      "text/plain": [
       "[1.2810721614144065, 0.5090909069234675]"
      ]
     },
     "execution_count": 167,
     "metadata": {},
     "output_type": "execute_result"
    }
   ],
   "source": [
    "model.load_weights(\"best_model.h5\")\n",
    "model.evaluate(embedding_mat_test,ytest)"
   ]
  },
  {
   "cell_type": "code",
   "execution_count": 174,
   "metadata": {},
   "outputs": [],
   "source": [
    "pred = model.predict_classes(embedding_mat_test)"
   ]
  },
  {
   "cell_type": "code",
   "execution_count": 175,
   "metadata": {},
   "outputs": [
    {
     "name": "stdout",
     "output_type": "stream",
     "text": [
      "he did not answer\n",
      "😓\n",
      "😓\n",
      "he got a raise\n",
      "😁\n",
      "😓\n",
      "she got me a present\n",
      "❤️\n",
      "😁\n",
      "ha ha ha it was so funny\n",
      "😁\n",
      "😁\n",
      "he is a good friend\n",
      "❤️\n",
      "😁\n",
      "I am upset\n",
      "❤️\n",
      "⚾\n",
      "We had such a lovely dinner tonight\n",
      "❤️\n",
      "😁\n",
      "where is the food\n",
      "🍴\n",
      "😁\n",
      "Stop making this joke ha ha ha\n",
      "😁\n",
      "😁\n",
      "where is the ball\n",
      "⚾\n",
      "⚾\n",
      "work is hard\n",
      "😓\n",
      "😁\n",
      "This girl is messing with me\n",
      "😓\n",
      "❤️\n",
      "are you serious ha ha\n",
      "😁\n",
      "😁\n",
      "Let us go play baseball\n",
      "⚾\n",
      "⚾\n",
      "This stupid grader is not working\n",
      "😓\n",
      "😓\n",
      "work is horrible\n",
      "😓\n",
      "😁\n",
      "Congratulation for having a baby\n",
      "😁\n",
      "😁\n",
      "stop messing around\n",
      "😓\n",
      "😓\n",
      "any suggestions for dinner\n",
      "🍴\n",
      "😁\n",
      "I love taking breaks\n",
      "❤️\n",
      "❤️\n",
      "you brighten my day\n",
      "😁\n",
      "❤️\n",
      "I boiled rice\n",
      "🍴\n",
      "🍴\n",
      "she is a bully\n",
      "😓\n",
      "😓\n",
      "Why are you feeling bad\n",
      "😓\n",
      "😓\n",
      "I am upset\n",
      "😓\n",
      "⚾\n",
      "I worked during my birthday\n",
      "😓\n",
      "😁\n",
      "My grandmother is the love of my life\n",
      "❤️\n",
      "❤️\n",
      "enjoy your break\n",
      "😁\n",
      "❤️\n",
      "valentine day is near\n",
      "❤️\n",
      "😁\n",
      "I miss you so much\n",
      "❤️\n",
      "❤️\n"
     ]
    }
   ],
   "source": [
    "for i in range(30):\n",
    "    print(' '.join(xtest[i]))\n",
    "    print(emoji.emojize(emoji_dictionary[str(np.argmax(ytest[i]))]))\n",
    "    print(emoji.emojize(emoji_dictionary[str(pred[i])]))"
   ]
  },
  {
   "cell_type": "code",
   "execution_count": null,
   "metadata": {},
   "outputs": [],
   "source": []
  }
 ],
 "metadata": {
  "kernelspec": {
   "display_name": "Python 3",
   "language": "python",
   "name": "python3"
  },
  "language_info": {
   "codemirror_mode": {
    "name": "ipython",
    "version": 3
   },
   "file_extension": ".py",
   "mimetype": "text/x-python",
   "name": "python",
   "nbconvert_exporter": "python",
   "pygments_lexer": "ipython3",
   "version": "3.6.8"
  }
 },
 "nbformat": 4,
 "nbformat_minor": 2
}
